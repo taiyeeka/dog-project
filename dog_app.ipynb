{
 "cells": [
  {
   "cell_type": "markdown",
   "metadata": {},
   "source": [
    "# Artificial Intelligence Nanodegree\n",
    "\n",
    "## Convolutional Neural Networks\n",
    "\n",
    "## Project: Write an Algorithm for a Dog Identification App \n",
    "\n",
    "---\n",
    "\n",
    "In this notebook, some template code has already been provided for you, and you will need to implement additional functionality to successfully complete this project. You will not need to modify the included code beyond what is requested. Sections that begin with **'(IMPLEMENTATION)'** in the header indicate that the following block of code will require additional functionality which you must provide. Instructions will be provided for each section, and the specifics of the implementation are marked in the code block with a 'TODO' statement. Please be sure to read the instructions carefully! \n",
    "\n",
    "> **Note**: Once you have completed all of the code implementations, you need to finalize your work by exporting the iPython Notebook as an HTML document. Before exporting the notebook to html, all of the code cells need to have been run so that reviewers can see the final implementation and output. You can then export the notebook by using the menu above and navigating to  \\n\",\n",
    "    \"**File -> Download as -> HTML (.html)**. Include the finished document along with this notebook as your submission.\n",
    "\n",
    "In addition to implementing code, there will be questions that you must answer which relate to the project and your implementation. Each section where you will answer a question is preceded by a **'Question X'** header. Carefully read each question and provide thorough answers in the following text boxes that begin with **'Answer:'**. Your project submission will be evaluated based on your answers to each of the questions and the implementation you provide.\n",
    "\n",
    ">**Note:** Code and Markdown cells can be executed using the **Shift + Enter** keyboard shortcut.  Markdown cells can be edited by double-clicking the cell to enter edit mode.\n",
    "\n",
    "The rubric contains _optional_ \"Stand Out Suggestions\" for enhancing the project beyond the minimum requirements. If you decide to pursue the \"Stand Out Suggestions\", you should include the code in this IPython notebook.\n",
    "\n",
    "\n",
    "\n",
    "---\n",
    "### Why We're Here \n",
    "\n",
    "In this notebook, you will make the first steps towards developing an algorithm that could be used as part of a mobile or web app.  At the end of this project, your code will accept any user-supplied image as input.  If a dog is detected in the image, it will provide an estimate of the dog's breed.  If a human is detected, it will provide an estimate of the dog breed that is most resembling.  The image below displays potential sample output of your finished project (... but we expect that each student's algorithm will behave differently!). \n",
    "\n",
    "![Sample Dog Output](images/sample_dog_output.png)\n",
    "\n",
    "In this real-world setting, you will need to piece together a series of models to perform different tasks; for instance, the algorithm that detects humans in an image will be different from the CNN that infers dog breed.  There are many points of possible failure, and no perfect algorithm exists.  Your imperfect solution will nonetheless create a fun user experience!\n",
    "\n",
    "### The Road Ahead\n",
    "\n",
    "We break the notebook into separate steps.  Feel free to use the links below to navigate the notebook.\n",
    "\n",
    "* [Step 0](#step0): Import Datasets\n",
    "* [Step 1](#step1): Detect Humans\n",
    "* [Step 2](#step2): Detect Dogs\n",
    "* [Step 3](#step3): Create a CNN to Classify Dog Breeds (from Scratch)\n",
    "* [Step 4](#step4): Use a CNN to Classify Dog Breeds (using Transfer Learning)\n",
    "* [Step 5](#step5): Create a CNN to Classify Dog Breeds (using Transfer Learning)\n",
    "* [Step 6](#step6): Write your Algorithm\n",
    "* [Step 7](#step7): Test Your Algorithm\n",
    "\n",
    "---\n",
    "<a id='step0'></a>\n",
    "## Step 0: Import Datasets\n",
    "\n",
    "### Import Dog Dataset\n",
    "\n",
    "In the code cell below, we import a dataset of dog images.  We populate a few variables through the use of the `load_files` function from the scikit-learn library:\n",
    "- `train_files`, `valid_files`, `test_files` - numpy arrays containing file paths to images\n",
    "- `train_targets`, `valid_targets`, `test_targets` - numpy arrays containing onehot-encoded classification labels \n",
    "- `dog_names` - list of string-valued dog breed names for translating labels"
   ]
  },
  {
   "cell_type": "code",
   "execution_count": 1,
   "metadata": {},
   "outputs": [
    {
     "name": "stderr",
     "output_type": "stream",
     "text": [
      "Using TensorFlow backend.\n"
     ]
    },
    {
     "ename": "FileNotFoundError",
     "evalue": "[WinError 3] 系統找不到指定的路徑。: 'dogImages/train'",
     "output_type": "error",
     "traceback": [
      "\u001b[1;31m---------------------------------------------------------------------------\u001b[0m",
      "\u001b[1;31mFileNotFoundError\u001b[0m                         Traceback (most recent call last)",
      "\u001b[1;32m<ipython-input-1-b6cc98f2675e>\u001b[0m in \u001b[0;36m<module>\u001b[1;34m()\u001b[0m\n\u001b[0;32m     12\u001b[0m \u001b[1;33m\u001b[0m\u001b[0m\n\u001b[0;32m     13\u001b[0m \u001b[1;31m# load train, test, and validation datasets\u001b[0m\u001b[1;33m\u001b[0m\u001b[1;33m\u001b[0m\u001b[0m\n\u001b[1;32m---> 14\u001b[1;33m \u001b[0mtrain_files\u001b[0m\u001b[1;33m,\u001b[0m \u001b[0mtrain_targets\u001b[0m \u001b[1;33m=\u001b[0m \u001b[0mload_dataset\u001b[0m\u001b[1;33m(\u001b[0m\u001b[1;34m'dogImages/train'\u001b[0m\u001b[1;33m)\u001b[0m\u001b[1;33m\u001b[0m\u001b[0m\n\u001b[0m\u001b[0;32m     15\u001b[0m \u001b[0mvalid_files\u001b[0m\u001b[1;33m,\u001b[0m \u001b[0mvalid_targets\u001b[0m \u001b[1;33m=\u001b[0m \u001b[0mload_dataset\u001b[0m\u001b[1;33m(\u001b[0m\u001b[1;34m'dogImages/valid'\u001b[0m\u001b[1;33m)\u001b[0m\u001b[1;33m\u001b[0m\u001b[0m\n\u001b[0;32m     16\u001b[0m \u001b[0mtest_files\u001b[0m\u001b[1;33m,\u001b[0m \u001b[0mtest_targets\u001b[0m \u001b[1;33m=\u001b[0m \u001b[0mload_dataset\u001b[0m\u001b[1;33m(\u001b[0m\u001b[1;34m'dogImages/test'\u001b[0m\u001b[1;33m)\u001b[0m\u001b[1;33m\u001b[0m\u001b[0m\n",
      "\u001b[1;32m<ipython-input-1-b6cc98f2675e>\u001b[0m in \u001b[0;36mload_dataset\u001b[1;34m(path)\u001b[0m\n\u001b[0;32m      6\u001b[0m \u001b[1;31m# define function to load train, test, and validation datasets\u001b[0m\u001b[1;33m\u001b[0m\u001b[1;33m\u001b[0m\u001b[0m\n\u001b[0;32m      7\u001b[0m \u001b[1;32mdef\u001b[0m \u001b[0mload_dataset\u001b[0m\u001b[1;33m(\u001b[0m\u001b[0mpath\u001b[0m\u001b[1;33m)\u001b[0m\u001b[1;33m:\u001b[0m\u001b[1;33m\u001b[0m\u001b[0m\n\u001b[1;32m----> 8\u001b[1;33m     \u001b[0mdata\u001b[0m \u001b[1;33m=\u001b[0m \u001b[0mload_files\u001b[0m\u001b[1;33m(\u001b[0m\u001b[0mpath\u001b[0m\u001b[1;33m)\u001b[0m\u001b[1;33m\u001b[0m\u001b[0m\n\u001b[0m\u001b[0;32m      9\u001b[0m     \u001b[0mdog_files\u001b[0m \u001b[1;33m=\u001b[0m \u001b[0mnp\u001b[0m\u001b[1;33m.\u001b[0m\u001b[0marray\u001b[0m\u001b[1;33m(\u001b[0m\u001b[0mdata\u001b[0m\u001b[1;33m[\u001b[0m\u001b[1;34m'filenames'\u001b[0m\u001b[1;33m]\u001b[0m\u001b[1;33m)\u001b[0m\u001b[1;33m\u001b[0m\u001b[0m\n\u001b[0;32m     10\u001b[0m     \u001b[0mdog_targets\u001b[0m \u001b[1;33m=\u001b[0m \u001b[0mnp_utils\u001b[0m\u001b[1;33m.\u001b[0m\u001b[0mto_categorical\u001b[0m\u001b[1;33m(\u001b[0m\u001b[0mnp\u001b[0m\u001b[1;33m.\u001b[0m\u001b[0marray\u001b[0m\u001b[1;33m(\u001b[0m\u001b[0mdata\u001b[0m\u001b[1;33m[\u001b[0m\u001b[1;34m'target'\u001b[0m\u001b[1;33m]\u001b[0m\u001b[1;33m)\u001b[0m\u001b[1;33m,\u001b[0m \u001b[1;36m133\u001b[0m\u001b[1;33m)\u001b[0m\u001b[1;33m\u001b[0m\u001b[0m\n",
      "\u001b[1;32mC:\\Users\\yeekatai\\AppData\\Local\\Continuum\\Anaconda3\\lib\\site-packages\\sklearn\\datasets\\base.py\u001b[0m in \u001b[0;36mload_files\u001b[1;34m(container_path, description, categories, load_content, shuffle, encoding, decode_error, random_state)\u001b[0m\n\u001b[0;32m    199\u001b[0m     \u001b[0mfilenames\u001b[0m \u001b[1;33m=\u001b[0m \u001b[1;33m[\u001b[0m\u001b[1;33m]\u001b[0m\u001b[1;33m\u001b[0m\u001b[0m\n\u001b[0;32m    200\u001b[0m \u001b[1;33m\u001b[0m\u001b[0m\n\u001b[1;32m--> 201\u001b[1;33m     folders = [f for f in sorted(listdir(container_path))\n\u001b[0m\u001b[0;32m    202\u001b[0m                if isdir(join(container_path, f))]\n\u001b[0;32m    203\u001b[0m \u001b[1;33m\u001b[0m\u001b[0m\n",
      "\u001b[1;31mFileNotFoundError\u001b[0m: [WinError 3] 系統找不到指定的路徑。: 'dogImages/train'"
     ]
    }
   ],
   "source": [
    "from sklearn.datasets import load_files       \n",
    "from keras.utils import np_utils\n",
    "import numpy as np\n",
    "from glob import glob\n",
    "\n",
    "# define function to load train, test, and validation datasets\n",
    "def load_dataset(path):\n",
    "    data = load_files(path)\n",
    "    dog_files = np.array(data['filenames'])\n",
    "    dog_targets = np_utils.to_categorical(np.array(data['target']), 133)\n",
    "    return dog_files, dog_targets\n",
    "\n",
    "# load train, test, and validation datasets\n",
    "train_files, train_targets = load_dataset('dogImages/train')\n",
    "valid_files, valid_targets = load_dataset('dogImages/valid')\n",
    "test_files, test_targets = load_dataset('dogImages/test')\n",
    "\n",
    "# load list of dog names\n",
    "dog_names = [item[20:-1] for item in sorted(glob(\"dogImages/train/*/\"))]\n",
    "\n",
    "# print statistics about the dataset\n",
    "print('There are %d total dog categories.' % len(dog_names))\n",
    "print('There are %s total dog images.\\n' % len(np.hstack([train_files, valid_files, test_files])))\n",
    "print('There are %d training dog images.' % len(train_files))\n",
    "print('There are %d validation dog images.' % len(valid_files))\n",
    "print('There are %d test dog images.'% len(test_files))"
   ]
  },
  {
   "cell_type": "markdown",
   "metadata": {},
   "source": [
    "### Import Human Dataset\n",
    "\n",
    "In the code cell below, we import a dataset of human images, where the file paths are stored in the numpy array `human_files`."
   ]
  },
  {
   "cell_type": "code",
   "execution_count": null,
   "metadata": {
    "collapsed": true
   },
   "outputs": [],
   "source": [
    "import random\n",
    "random.seed(8675309)\n",
    "\n",
    "# load filenames in shuffled human dataset\n",
    "human_files = np.array(glob(\"lfw/*/*\"))\n",
    "random.shuffle(human_files)\n",
    "\n",
    "# print statistics about the dataset\n",
    "print('There are %d total human images.' % len(human_files))"
   ]
  },
  {
   "cell_type": "markdown",
   "metadata": {},
   "source": [
    "---\n",
    "<a id='step1'></a>\n",
    "## Step 1: Detect Humans\n",
    "\n",
    "We use OpenCV's implementation of [Haar feature-based cascade classifiers](http://docs.opencv.org/trunk/d7/d8b/tutorial_py_face_detection.html) to detect human faces in images.  OpenCV provides many pre-trained face detectors, stored as XML files on [github](https://github.com/opencv/opencv/tree/master/data/haarcascades).  We have downloaded one of these detectors and stored it in the `haarcascades` directory.\n",
    "\n",
    "In the next code cell, we demonstrate how to use this detector to find human faces in a sample image."
   ]
  },
  {
   "cell_type": "code",
   "execution_count": null,
   "metadata": {
    "collapsed": true
   },
   "outputs": [],
   "source": [
    "import cv2                \n",
    "import matplotlib.pyplot as plt                        \n",
    "%matplotlib inline                               \n",
    "\n",
    "# extract pre-trained face detector\n",
    "face_cascade = cv2.CascadeClassifier('haarcascades/haarcascade_frontalface_alt.xml')\n",
    "\n",
    "# load color (BGR) image\n",
    "img = cv2.imread(human_files[3])\n",
    "# convert BGR image to grayscale\n",
    "gray = cv2.cvtColor(img, cv2.COLOR_BGR2GRAY)\n",
    "\n",
    "# find faces in image\n",
    "faces = face_cascade.detectMultiScale(gray)\n",
    "\n",
    "# print number of faces detected in the image\n",
    "print('Number of faces detected:', len(faces))\n",
    "\n",
    "# get bounding box for each detected face\n",
    "for (x,y,w,h) in faces:\n",
    "    # add bounding box to color image\n",
    "    cv2.rectangle(img,(x,y),(x+w,y+h),(255,0,0),2)\n",
    "    \n",
    "# convert BGR image to RGB for plotting\n",
    "cv_rgb = cv2.cvtColor(img, cv2.COLOR_BGR2RGB)\n",
    "\n",
    "# display the image, along with bounding box\n",
    "plt.imshow(cv_rgb)\n",
    "plt.show()"
   ]
  },
  {
   "cell_type": "markdown",
   "metadata": {},
   "source": [
    "Before using any of the face detectors, it is standard procedure to convert the images to grayscale.  The `detectMultiScale` function executes the classifier stored in `face_cascade` and takes the grayscale image as a parameter.  \n",
    "\n",
    "In the above code, `faces` is a numpy array of detected faces, where each row corresponds to a detected face.  Each detected face is a 1D array with four entries that specifies the bounding box of the detected face.  The first two entries in the array (extracted in the above code as `x` and `y`) specify the horizontal and vertical positions of the top left corner of the bounding box.  The last two entries in the array (extracted here as `w` and `h`) specify the width and height of the box.\n",
    "\n",
    "### Write a Human Face Detector\n",
    "\n",
    "We can use this procedure to write a function that returns `True` if a human face is detected in an image and `False` otherwise.  This function, aptly named `face_detector`, takes a string-valued file path to an image as input and appears in the code block below."
   ]
  },
  {
   "cell_type": "code",
   "execution_count": 4,
   "metadata": {},
   "outputs": [
    {
     "name": "stdout",
     "output_type": "stream",
     "text": [
      "True\n"
     ]
    }
   ],
   "source": [
    "# returns \"True\" if face is detected in image stored at img_path\n",
    "def face_detector(img_path):\n",
    "    img = cv2.imread(img_path)\n",
    "    gray = cv2.cvtColor(img, cv2.COLOR_BGR2GRAY)\n",
    "    faces = face_cascade.detectMultiScale(gray)\n",
    "    return len(faces) > 0\n",
    "\n",
    "print(face_detector(human_files[3]))"
   ]
  },
  {
   "cell_type": "markdown",
   "metadata": {},
   "source": [
    "### (IMPLEMENTATION) Assess the Human Face Detector\n",
    "\n",
    "__Question 1:__ Use the code cell below to test the performance of the `face_detector` function.  \n",
    "- What percentage of the first 100 images in `human_files` have a detected human face?  \n",
    "- What percentage of the first 100 images in `dog_files` have a detected human face? \n",
    "\n",
    "Ideally, we would like 100% of human images with a detected face and 0% of dog images with a detected face.  You will see that our algorithm falls short of this goal, but still gives acceptable performance.  We extract the file paths for the first 100 images from each of the datasets and store them in the numpy arrays `human_files_short` and `dog_files_short`.\n",
    "\n",
    "__Answer:__ "
   ]
  },
  {
   "cell_type": "code",
   "execution_count": 5,
   "metadata": {},
   "outputs": [
    {
     "name": "stdout",
     "output_type": "stream",
     "text": [
      "98 % of the first 100 images in human_files have a detected human face\n",
      "11 % of the first 100 images in dog_files have a detected human face\n"
     ]
    }
   ],
   "source": [
    "human_files_short = human_files[:100]\n",
    "dog_files_short = train_files[:100]\n",
    "# Do NOT modify the code above this line.\n",
    "\n",
    "## TODO: Test the performance of the face_detector algorithm \n",
    "## on the images in human_files_short and dog_files_short.\n",
    "\n",
    "human_files_count = 0\n",
    "dog_files_count = 0\n",
    "for i in range(100):\n",
    "    if face_detector(human_files_short[i]):\n",
    "        human_files_count += 1\n",
    "    if face_detector(dog_files_short[i]):\n",
    "        dog_files_count += 1\n",
    "print(human_files_count, \"% of the first 100 images in human_files have a detected human face\")\n",
    "print(dog_files_count, \"% of the first 100 images in dog_files have a detected human face\")\n"
   ]
  },
  {
   "cell_type": "markdown",
   "metadata": {},
   "source": [
    "__Question 2:__ This algorithmic choice necessitates that we communicate to the user that we accept human images only when they provide a clear view of a face (otherwise, we risk having unneccessarily frustrated users!). In your opinion, is this a reasonable expectation to pose on the user? If not, can you think of a way to detect humans in images that does not necessitate an image with a clearly presented face?\n",
    "\n",
    "__Answer:__\n",
    "\n",
    "We suggest the face detector from OpenCV as a potential way to detect human images in your algorithm, but you are free to explore other approaches, especially approaches that make use of deep learning :).  Please use the code cell below to design and test your own face detection algorithm.  If you decide to pursue this _optional_ task, report performance on each of the datasets."
   ]
  },
  {
   "cell_type": "code",
   "execution_count": 4,
   "metadata": {},
   "outputs": [
    {
     "name": "stdout",
     "output_type": "stream",
     "text": [
      "No, it is not reasonable to expect the user to turn in images with a clear view of a face. When photographing human, some people focus more on faces, others on bodies. And both are  distinctive features.\n",
      "\n",
      "To favour users who focus on human bodies, we might include haarcascade_fullbody.xml in our detection process. While for users who focuses on faces, our face detector haarcascade_frontalface_alt.xml focuses is not doing the best job. Because it focuses on frontal views of human faces and might turn down images taking from different perspective of the faces. But this presumed frontal view is not warned. So we should also add detector for profile faces as well. \n",
      "\n",
      "With multiple detectors, we detect humans in images in different styles.\n",
      "\n"
     ]
    }
   ],
   "source": [
    "print('''No, it is not reasonable to expect the user to turn in images with a clear view of a face. When photographing human, some people focus more on faces, others on bodies. And both are  distinctive features.\n",
    "\n",
    "To favour users who focus on human bodies, we might include haarcascade_fullbody.xml in our detection process. While for users who focuses on faces, our face detector haarcascade_frontalface_alt.xml focuses is not doing the best job. Because it focuses on frontal views of human faces and might turn down images taking from different perspective of the faces. But this presumed frontal view is not warned. So we should also add detector for profile faces as well. \n",
    "\n",
    "With multiple detectors, we detect humans in images in different styles.\n",
    "''')\n",
    "## (Optional) TODO: Report the performance of another  \n",
    "## face detection algorithm on the LFW dataset\n",
    "### Feel free to use as many code cells as needed."
   ]
  },
  {
   "cell_type": "markdown",
   "metadata": {},
   "source": [
    "---\n",
    "<a id='step2'></a>\n",
    "## Step 2: Detect Dogs\n",
    "\n",
    "In this section, we use a pre-trained [ResNet-50](http://ethereon.github.io/netscope/#/gist/db945b393d40bfa26006) model to detect dogs in images.  Our first line of code downloads the ResNet-50 model, along with weights that have been trained on [ImageNet](http://www.image-net.org/), a very large, very popular dataset used for image classification and other vision tasks.  ImageNet contains over 10 million URLs, each linking to an image containing an object from one of [1000 categories](https://gist.github.com/yrevar/942d3a0ac09ec9e5eb3a).  Given an image, this pre-trained ResNet-50 model returns a prediction (derived from the available categories in ImageNet) for the object that is contained in the image."
   ]
  },
  {
   "cell_type": "code",
   "execution_count": 7,
   "metadata": {
    "collapsed": true
   },
   "outputs": [],
   "source": [
    "from keras.applications.resnet50 import ResNet50\n",
    "\n",
    "# define ResNet50 model\n",
    "ResNet50_model = ResNet50(weights='imagenet')"
   ]
  },
  {
   "cell_type": "markdown",
   "metadata": {},
   "source": [
    "### Pre-process the Data\n",
    "\n",
    "When using TensorFlow as backend, Keras CNNs require a 4D array (which we'll also refer to as a 4D tensor) as input, with shape\n",
    "\n",
    "$$\n",
    "(\\text{nb_samples}, \\text{rows}, \\text{columns}, \\text{channels}),\n",
    "$$\n",
    "\n",
    "where `nb_samples` corresponds to the total number of images (or samples), and `rows`, `columns`, and `channels` correspond to the number of rows, columns, and channels for each image, respectively.  \n",
    "\n",
    "The `path_to_tensor` function below takes a string-valued file path to a color image as input and returns a 4D tensor suitable for supplying to a Keras CNN.  The function first loads the image and resizes it to a square image that is $224 \\times 224$ pixels.  Next, the image is converted to an array, which is then resized to a 4D tensor.  In this case, since we are working with color images, each image has three channels.  Likewise, since we are processing a single image (or sample), the returned tensor will always have shape\n",
    "\n",
    "$$\n",
    "(1, 224, 224, 3).\n",
    "$$\n",
    "\n",
    "The `paths_to_tensor` function takes a numpy array of string-valued image paths as input and returns a 4D tensor with shape \n",
    "\n",
    "$$\n",
    "(\\text{nb_samples}, 224, 224, 3).\n",
    "$$\n",
    "\n",
    "Here, `nb_samples` is the number of samples, or number of images, in the supplied array of image paths.  It is best to think of `nb_samples` as the number of 3D tensors (where each 3D tensor corresponds to a different image) in your dataset!"
   ]
  },
  {
   "cell_type": "code",
   "execution_count": 8,
   "metadata": {
    "collapsed": true
   },
   "outputs": [],
   "source": [
    "from keras.preprocessing import image                  \n",
    "from tqdm import tqdm\n",
    "\n",
    "def path_to_tensor(img_path):\n",
    "    # loads RGB image as PIL.Image.Image type\n",
    "    img = image.load_img(img_path, target_size=(224, 224))\n",
    "    # convert PIL.Image.Image type to 3D tensor with shape (224, 224, 3)\n",
    "    x = image.img_to_array(img)\n",
    "    # convert 3D tensor to 4D tensor with shape (1, 224, 224, 3) and return 4D tensor\n",
    "    return np.expand_dims(x, axis=0)\n",
    "\n",
    "def paths_to_tensor(img_paths):\n",
    "    list_of_tensors = [path_to_tensor(img_path) for img_path in tqdm(img_paths)]\n",
    "    return np.vstack(list_of_tensors)"
   ]
  },
  {
   "cell_type": "markdown",
   "metadata": {},
   "source": [
    "### Making Predictions with ResNet-50\n",
    "\n",
    "Getting the 4D tensor ready for ResNet-50, and for any other pre-trained model in Keras, requires some additional processing.  First, the RGB image is converted to BGR by reordering the channels.  All pre-trained models have the additional normalization step that the mean pixel (expressed in RGB as $[103.939, 116.779, 123.68]$ and calculated from all pixels in all images in ImageNet) must be subtracted from every pixel in each image.  This is implemented in the imported function `preprocess_input`.  If you're curious, you can check the code for `preprocess_input` [here](https://github.com/fchollet/keras/blob/master/keras/applications/imagenet_utils.py).\n",
    "\n",
    "Now that we have a way to format our image for supplying to ResNet-50, we are now ready to use the model to extract the predictions.  This is accomplished with the `predict` method, which returns an array whose $i$-th entry is the model's predicted probability that the image belongs to the $i$-th ImageNet category.  This is implemented in the `ResNet50_predict_labels` function below.\n",
    "\n",
    "By taking the argmax of the predicted probability vector, we obtain an integer corresponding to the model's predicted object class, which we can identify with an object category through the use of this [dictionary](https://gist.github.com/yrevar/942d3a0ac09ec9e5eb3a). "
   ]
  },
  {
   "cell_type": "code",
   "execution_count": 9,
   "metadata": {
    "collapsed": true
   },
   "outputs": [],
   "source": [
    "from keras.applications.resnet50 import preprocess_input, decode_predictions\n",
    "\n",
    "def ResNet50_predict_labels(img_path):\n",
    "    # returns prediction vector for image located at img_path\n",
    "    img = preprocess_input(path_to_tensor(img_path))\n",
    "    return np.argmax(ResNet50_model.predict(img))"
   ]
  },
  {
   "cell_type": "markdown",
   "metadata": {},
   "source": [
    "### Write a Dog Detector\n",
    "\n",
    "While looking at the [dictionary](https://gist.github.com/yrevar/942d3a0ac09ec9e5eb3a), you will notice that the categories corresponding to dogs appear in an uninterrupted sequence and correspond to dictionary keys 151-268, inclusive, to include all categories from `'Chihuahua'` to `'Mexican hairless'`.  Thus, in order to check to see if an image is predicted to contain a dog by the pre-trained ResNet-50 model, we need only check if the `ResNet50_predict_labels` function above returns a value between 151 and 268 (inclusive).\n",
    "\n",
    "We use these ideas to complete the `dog_detector` function below, which returns `True` if a dog is detected in an image (and `False` if not)."
   ]
  },
  {
   "cell_type": "code",
   "execution_count": 10,
   "metadata": {
    "collapsed": true
   },
   "outputs": [],
   "source": [
    "### returns \"True\" if a dog is detected in the image stored at img_path\n",
    "def dog_detector(img_path):\n",
    "    prediction = ResNet50_predict_labels(img_path)\n",
    "    return ((prediction <= 268) & (prediction >= 151)) "
   ]
  },
  {
   "cell_type": "markdown",
   "metadata": {},
   "source": [
    "### (IMPLEMENTATION) Assess the Dog Detector\n",
    "\n",
    "__Question 3:__ Use the code cell below to test the performance of your `dog_detector` function.  \n",
    "- What percentage of the images in `human_files_short` have a detected dog?  \n",
    "- What percentage of the images in `dog_files_short` have a detected dog?\n",
    "\n",
    "__Answer:__ "
   ]
  },
  {
   "cell_type": "code",
   "execution_count": 11,
   "metadata": {},
   "outputs": [
    {
     "name": "stdout",
     "output_type": "stream",
     "text": [
      "1 % of the first 100 images in human_files have a detected dog\n",
      "100 % of the first 100 images in dog_files have a detected dog\n"
     ]
    }
   ],
   "source": [
    "### TODO: Test the performance of the dog_detector function\n",
    "### on the images in human_files_short and dog_files_short.\n",
    "\n",
    "human_files_dogCount = 0\n",
    "dog_files_dogCount = 0\n",
    "for i in range(100):\n",
    "    if dog_detector(human_files_short[i]):\n",
    "        human_files_dogCount += 1\n",
    "    if dog_detector(dog_files_short[i]):\n",
    "        dog_files_dogCount += 1\n",
    "print(human_files_dogCount, \"% of the first 100 images in human_files have a detected dog\")\n",
    "print(dog_files_dogCount, \"% of the first 100 images in dog_files have a detected dog\")"
   ]
  },
  {
   "cell_type": "markdown",
   "metadata": {},
   "source": [
    "---\n",
    "<a id='step3'></a>\n",
    "## Step 3: Create a CNN to Classify Dog Breeds (from Scratch)\n",
    "\n",
    "Now that we have functions for detecting humans and dogs in images, we need a way to predict breed from images.  In this step, you will create a CNN that classifies dog breeds.  You must create your CNN _from scratch_ (so, you can't use transfer learning _yet_!), and you must attain a test accuracy of at least 1%.  In Step 5 of this notebook, you will have the opportunity to use transfer learning to create a CNN that attains greatly improved accuracy.\n",
    "\n",
    "Be careful with adding too many trainable layers!  More parameters means longer training, which means you are more likely to need a GPU to accelerate the training process.  Thankfully, Keras provides a handy estimate of the time that each epoch is likely to take; you can extrapolate this estimate to figure out how long it will take for your algorithm to train. \n",
    "\n",
    "We mention that the task of assigning breed to dogs from images is considered exceptionally challenging.  To see why, consider that *even a human* would have great difficulty in distinguishing between a Brittany and a Welsh Springer Spaniel.  \n",
    "\n",
    "Brittany | Welsh Springer Spaniel\n",
    "- | - \n",
    "<img src=\"images/Brittany_02625.jpg\" width=\"100\"> | <img src=\"images/Welsh_springer_spaniel_08203.jpg\" width=\"200\">\n",
    "\n",
    "It is not difficult to find other dog breed pairs with minimal inter-class variation (for instance, Curly-Coated Retrievers and American Water Spaniels).  \n",
    "\n",
    "Curly-Coated Retriever | American Water Spaniel\n",
    "- | -\n",
    "<img src=\"images/Curly-coated_retriever_03896.jpg\" width=\"200\"> | <img src=\"images/American_water_spaniel_00648.jpg\" width=\"200\">\n",
    "\n",
    "\n",
    "Likewise, recall that labradors come in yellow, chocolate, and black.  Your vision-based algorithm will have to conquer this high intra-class variation to determine how to classify all of these different shades as the same breed.  \n",
    "\n",
    "Yellow Labrador | Chocolate Labrador | Black Labrador\n",
    "- | -\n",
    "<img src=\"images/Labrador_retriever_06457.jpg\" width=\"150\"> | <img src=\"images/Labrador_retriever_06455.jpg\" width=\"240\"> | <img src=\"images/Labrador_retriever_06449.jpg\" width=\"220\">\n",
    "\n",
    "We also mention that random chance presents an exceptionally low bar: setting aside the fact that the classes are slightly imabalanced, a random guess will provide a correct answer roughly 1 in 133 times, which corresponds to an accuracy of less than 1%.  \n",
    "\n",
    "Remember that the practice is far ahead of the theory in deep learning.  Experiment with many different architectures, and trust your intuition.  And, of course, have fun! \n",
    "\n",
    "### Pre-process the Data\n",
    "\n",
    "We rescale the images by dividing every pixel in every image by 255."
   ]
  },
  {
   "cell_type": "code",
   "execution_count": 12,
   "metadata": {},
   "outputs": [
    {
     "name": "stderr",
     "output_type": "stream",
     "text": [
      "100%|██████████| 6680/6680 [00:51<00:00, 128.99it/s]\n",
      "100%|██████████| 835/835 [00:05<00:00, 144.37it/s]\n",
      "100%|██████████| 836/836 [00:05<00:00, 145.37it/s]\n"
     ]
    }
   ],
   "source": [
    "from PIL import ImageFile                            \n",
    "ImageFile.LOAD_TRUNCATED_IMAGES = True                 \n",
    "\n",
    "# pre-process the data for Keras\n",
    "train_tensors = paths_to_tensor(train_files).astype('float32')/255\n",
    "valid_tensors = paths_to_tensor(valid_files).astype('float32')/255\n",
    "test_tensors = paths_to_tensor(test_files).astype('float32')/255"
   ]
  },
  {
   "cell_type": "markdown",
   "metadata": {},
   "source": [
    "### (IMPLEMENTATION) Model Architecture\n",
    "\n",
    "Create a CNN to classify dog breed.  At the end of your code cell block, summarize the layers of your model by executing the line:\n",
    "    \n",
    "        model.summary()\n",
    "\n",
    "We have imported some Python modules to get you started, but feel free to import as many modules as you need.  If you end up getting stuck, here's a hint that specifies a model that trains relatively fast on CPU and attains >1% test accuracy in 5 epochs:\n",
    "\n",
    "![Sample CNN](images/sample_cnn.png)\n",
    "           \n",
    "__Question 4:__ Outline the steps you took to get to your final CNN architecture and your reasoning at each step.  If you chose to use the hinted architecture above, describe why you think that CNN architecture should work well for the image classification task.\n",
    "\n",
    "__Answer:__ "
   ]
  },
  {
   "cell_type": "code",
   "execution_count": 3,
   "metadata": {},
   "outputs": [
    {
     "name": "stderr",
     "output_type": "stream",
     "text": [
      "Using TensorFlow backend.\n"
     ]
    },
    {
     "name": "stdout",
     "output_type": "stream",
     "text": [
      "_________________________________________________________________\n",
      "Layer (type)                 Output Shape              Param #   \n",
      "=================================================================\n",
      "conv2d_1 (Conv2D)            (None, 224, 224, 16)      208       \n",
      "_________________________________________________________________\n",
      "max_pooling2d_1 (MaxPooling2 (None, 112, 112, 16)      0         \n",
      "_________________________________________________________________\n",
      "conv2d_2 (Conv2D)            (None, 112, 112, 32)      2080      \n",
      "_________________________________________________________________\n",
      "max_pooling2d_2 (MaxPooling2 (None, 56, 56, 32)        0         \n",
      "_________________________________________________________________\n",
      "conv2d_3 (Conv2D)            (None, 56, 56, 64)        8256      \n",
      "_________________________________________________________________\n",
      "max_pooling2d_3 (MaxPooling2 (None, 28, 28, 64)        0         \n",
      "_________________________________________________________________\n",
      "global_average_pooling2d_1 ( (None, 64)                0         \n",
      "_________________________________________________________________\n",
      "dense_1 (Dense)              (None, 133)               8645      \n",
      "=================================================================\n",
      "Total params: 19,189\n",
      "Trainable params: 19,189\n",
      "Non-trainable params: 0\n",
      "_________________________________________________________________\n",
      "\n",
      "I choose to implement the hinted architecture above because it said it is good enough to attain >1% test accuracy in 5 epochs.\n",
      "\n",
      "It is not surprising that it works well because:\n",
      "\n",
      "We have the interplay of convolution layer and max-pooling layer to extract key features of images from pixels. \n",
      "\n",
      "Convolution layers extract features. After each convolution layer, we have more features. They grow with the number of filters we use (in our case, that is doubling every time).\n",
      "\n",
      "Thus, we need the max-pooling layer to reduce space. Our tensors will have less width after passing through each max-pooling layer (in our case, that is roughly reducing to a half every time).\n",
      "\n",
      "We expect these two types of layers help the model to develop from identifying simple patterns in the lower level to more complex patterns higher level.\n",
      "\n",
      "Then we global average pooling layer account the high level complex patterns for 64 features (by take average along two remaining dimenions of width 27).\n",
      "\n",
      "These features are used for the categorization in the final dense layer with a softmax classifier for dog breeds. Softmax is chosen as the activation function because the output of it canonically represents a categorical distribution.\n",
      "\n",
      "This hinted architecture can indeed be viewed as a light version of VGG16. It has a smaller window size in convolution filters, a overall much shallower layer. It make sense since our images are small and a small neighbourhood in pixel already imply large portion of information in the image. But the overall architecture (interplay of convolution layer and pooling layer, finished with fully connected layer is almost the same as VGG. \n",
      "\n",
      "\n",
      "\n"
     ]
    }
   ],
   "source": [
    "from keras.layers import Conv2D, MaxPooling2D, GlobalAveragePooling2D\n",
    "from keras.layers import Dropout, Flatten, Dense\n",
    "from keras.models import Sequential\n",
    "\n",
    "model = Sequential()\n",
    "\n",
    "### TODO: Define your architecture.\n",
    "model.add(Conv2D(filters=16, kernel_size=2, padding='same', activation='relu', \n",
    "                        input_shape=(224, 224, 3)))\n",
    "model.add(MaxPooling2D(pool_size=2))\n",
    "model.add(Conv2D(filters=32, kernel_size=2, padding='same', activation='relu'))\n",
    "model.add(MaxPooling2D(pool_size=2))\n",
    "model.add(Conv2D(filters=64, kernel_size=2, padding='same', activation='relu'))\n",
    "model.add(MaxPooling2D(pool_size=2))\n",
    "model.add(GlobalAveragePooling2D())\n",
    "model.add(Dense(133, activation='softmax'))\n",
    "\n",
    "model.summary()\n",
    "\n",
    "print('''\n",
    "I choose to implement the hinted architecture above because it said it is good enough to attain >1% test accuracy in 5 epochs.\n",
    "\n",
    "It is not surprising that it works well because:\n",
    "\n",
    "We have the interplay of convolution layer and max-pooling layer to extract key features of images from pixels. \n",
    "\n",
    "Convolution layers extract features. After each convolution layer, we have more features. They grow with the number of filters we use (in our case, that is doubling every time).\n",
    "\n",
    "Thus, we need the max-pooling layer to reduce space. Our tensors will have less width after passing through each max-pooling layer (in our case, that is roughly reducing to a half every time).\n",
    "\n",
    "We expect these two types of layers help the model to develop from identifying simple patterns in the lower level to more complex patterns higher level.\n",
    "\n",
    "Then we global average pooling layer account the high level complex patterns for 64 features (by take average along two remaining dimenions of width 27).\n",
    "\n",
    "These features are used for the categorization in the final dense layer with a softmax classifier for dog breeds. Softmax is chosen as the activation function because the output of it canonically represents a categorical distribution.\n",
    "\n",
    "This hinted architecture can indeed be viewed as a light version of VGG16. It has a smaller window size in convolution filters, a overall much shallower layer. It make sense since our images are small and a small neighbourhood in pixel already imply large portion of information in the image. But the overall architecture (interplay of convolution layer and pooling layer, finished with fully connected layer is almost the same as VGG. \n",
    "\n",
    "\n",
    "''')"
   ]
  },
  {
   "cell_type": "markdown",
   "metadata": {},
   "source": [
    "### Compile the Model"
   ]
  },
  {
   "cell_type": "code",
   "execution_count": null,
   "metadata": {
    "collapsed": true
   },
   "outputs": [],
   "source": [
    "model.compile(optimizer='rmsprop', loss='categorical_crossentropy', metrics=['accuracy'])"
   ]
  },
  {
   "cell_type": "markdown",
   "metadata": {},
   "source": [
    "### (IMPLEMENTATION) Train the Model\n",
    "\n",
    "Train your model in the code cell below.  Use model checkpointing to save the model that attains the best validation loss.\n",
    "\n",
    "You are welcome to [augment the training data](https://blog.keras.io/building-powerful-image-classification-models-using-very-little-data.html), but this is not a requirement. "
   ]
  },
  {
   "cell_type": "code",
   "execution_count": null,
   "metadata": {},
   "outputs": [
    {
     "name": "stdout",
     "output_type": "stream",
     "text": [
      "Train on 6680 samples, validate on 835 samples\n",
      "Epoch 1/100\n",
      "6660/6680 [============================>.] - ETA: 0s - loss: 4.8845 - acc: 0.0110Epoch 00000: val_loss improved from inf to 4.86739, saving model to saved_models/weights.best.from_scratch.hdf5\n",
      "6680/6680 [==============================] - 24s - loss: 4.8844 - acc: 0.0109 - val_loss: 4.8674 - val_acc: 0.0108\n",
      "Epoch 2/100\n",
      "6660/6680 [============================>.] - ETA: 0s - loss: 4.8690 - acc: 0.0125Epoch 00001: val_loss improved from 4.86739 to 4.86169, saving model to saved_models/weights.best.from_scratch.hdf5\n",
      "6680/6680 [==============================] - 23s - loss: 4.8691 - acc: 0.0124 - val_loss: 4.8617 - val_acc: 0.0132\n",
      "Epoch 3/100\n",
      "6660/6680 [============================>.] - ETA: 0s - loss: 4.8586 - acc: 0.0141Epoch 00002: val_loss improved from 4.86169 to 4.85054, saving model to saved_models/weights.best.from_scratch.hdf5\n",
      "6680/6680 [==============================] - 23s - loss: 4.8590 - acc: 0.0141 - val_loss: 4.8505 - val_acc: 0.0132\n",
      "Epoch 4/100\n",
      "6660/6680 [============================>.] - ETA: 0s - loss: 4.8405 - acc: 0.0149Epoch 00003: val_loss improved from 4.85054 to 4.82854, saving model to saved_models/weights.best.from_scratch.hdf5\n",
      "6680/6680 [==============================] - 23s - loss: 4.8404 - acc: 0.0148 - val_loss: 4.8285 - val_acc: 0.0228\n",
      "Epoch 5/100\n",
      "6660/6680 [============================>.] - ETA: 0s - loss: 4.8020 - acc: 0.0200Epoch 00004: val_loss improved from 4.82854 to 4.81209, saving model to saved_models/weights.best.from_scratch.hdf5\n",
      "6680/6680 [==============================] - 23s - loss: 4.8021 - acc: 0.0201 - val_loss: 4.8121 - val_acc: 0.0216\n",
      "Epoch 6/100\n",
      "6660/6680 [============================>.] - ETA: 0s - loss: 4.7610 - acc: 0.0227Epoch 00005: val_loss improved from 4.81209 to 4.76304, saving model to saved_models/weights.best.from_scratch.hdf5\n",
      "6680/6680 [==============================] - 23s - loss: 4.7605 - acc: 0.0229 - val_loss: 4.7630 - val_acc: 0.0240\n",
      "Epoch 7/100\n",
      "6660/6680 [============================>.] - ETA: 0s - loss: 4.7204 - acc: 0.0272Epoch 00006: val_loss improved from 4.76304 to 4.75028, saving model to saved_models/weights.best.from_scratch.hdf5\n",
      "6680/6680 [==============================] - 23s - loss: 4.7198 - acc: 0.0271 - val_loss: 4.7503 - val_acc: 0.0216\n",
      "Epoch 8/100\n",
      "6660/6680 [============================>.] - ETA: 0s - loss: 4.6879 - acc: 0.0293Epoch 00007: val_loss improved from 4.75028 to 4.71533, saving model to saved_models/weights.best.from_scratch.hdf5\n",
      "6680/6680 [==============================] - 23s - loss: 4.6881 - acc: 0.0292 - val_loss: 4.7153 - val_acc: 0.0204\n",
      "Epoch 9/100\n",
      "6660/6680 [============================>.] - ETA: 0s - loss: 4.6534 - acc: 0.0303Epoch 00008: val_loss improved from 4.71533 to 4.69861, saving model to saved_models/weights.best.from_scratch.hdf5\n",
      "6680/6680 [==============================] - 23s - loss: 4.6532 - acc: 0.0302 - val_loss: 4.6986 - val_acc: 0.0216\n",
      "Epoch 10/100\n",
      "6660/6680 [============================>.] - ETA: 0s - loss: 4.6252 - acc: 0.0332Epoch 00009: val_loss improved from 4.69861 to 4.68178, saving model to saved_models/weights.best.from_scratch.hdf5\n",
      "6680/6680 [==============================] - 23s - loss: 4.6243 - acc: 0.0332 - val_loss: 4.6818 - val_acc: 0.0240\n",
      "Epoch 11/100\n",
      "6660/6680 [============================>.] - ETA: 0s - loss: 4.5967 - acc: 0.0381Epoch 00010: val_loss did not improve\n",
      "6680/6680 [==============================] - 23s - loss: 4.5960 - acc: 0.0382 - val_loss: 4.6821 - val_acc: 0.0251\n",
      "Epoch 12/100\n",
      "6660/6680 [============================>.] - ETA: 0s - loss: 4.5669 - acc: 0.0428Epoch 00011: val_loss improved from 4.68178 to 4.65716, saving model to saved_models/weights.best.from_scratch.hdf5\n",
      "6680/6680 [==============================] - 23s - loss: 4.5669 - acc: 0.0427 - val_loss: 4.6572 - val_acc: 0.0216\n",
      "Epoch 13/100\n",
      "6660/6680 [============================>.] - ETA: 0s - loss: 4.5384 - acc: 0.0419Epoch 00012: val_loss improved from 4.65716 to 4.60958, saving model to saved_models/weights.best.from_scratch.hdf5\n",
      "6680/6680 [==============================] - 23s - loss: 4.5381 - acc: 0.0418 - val_loss: 4.6096 - val_acc: 0.0311\n",
      "Epoch 14/100\n",
      "6660/6680 [============================>.] - ETA: 0s - loss: 4.5116 - acc: 0.0508Epoch 00013: val_loss improved from 4.60958 to 4.58474, saving model to saved_models/weights.best.from_scratch.hdf5\n",
      "6680/6680 [==============================] - 23s - loss: 4.5115 - acc: 0.0507 - val_loss: 4.5847 - val_acc: 0.0407\n",
      "Epoch 15/100\n",
      "6660/6680 [============================>.] - ETA: 0s - loss: 4.4796 - acc: 0.0506Epoch 00014: val_loss improved from 4.58474 to 4.55072, saving model to saved_models/weights.best.from_scratch.hdf5\n",
      "6680/6680 [==============================] - 23s - loss: 4.4801 - acc: 0.0504 - val_loss: 4.5507 - val_acc: 0.0383\n",
      "Epoch 16/100\n",
      "6660/6680 [============================>.] - ETA: 0s - loss: 4.4536 - acc: 0.0539Epoch 00015: val_loss improved from 4.55072 to 4.54525, saving model to saved_models/weights.best.from_scratch.hdf5\n",
      "6680/6680 [==============================] - 23s - loss: 4.4536 - acc: 0.0540 - val_loss: 4.5453 - val_acc: 0.0455\n",
      "Epoch 17/100\n",
      "6660/6680 [============================>.] - ETA: 0s - loss: 4.4255 - acc: 0.0613Epoch 00016: val_loss did not improve\n",
      "6680/6680 [==============================] - 23s - loss: 4.4258 - acc: 0.0612 - val_loss: 4.5524 - val_acc: 0.0371\n",
      "Epoch 18/100\n",
      "6660/6680 [============================>.] - ETA: 0s - loss: 4.3960 - acc: 0.0619Epoch 00017: val_loss improved from 4.54525 to 4.53697, saving model to saved_models/weights.best.from_scratch.hdf5\n",
      "6680/6680 [==============================] - 23s - loss: 4.3961 - acc: 0.0617 - val_loss: 4.5370 - val_acc: 0.0467\n",
      "Epoch 19/100\n",
      "6660/6680 [============================>.] - ETA: 0s - loss: 4.3727 - acc: 0.0668Epoch 00018: val_loss did not improve\n",
      "6680/6680 [==============================] - 23s - loss: 4.3717 - acc: 0.0668 - val_loss: 4.6132 - val_acc: 0.0335\n",
      "Epoch 20/100\n",
      "6660/6680 [============================>.] - ETA: 0s - loss: 4.3448 - acc: 0.0662Epoch 00019: val_loss improved from 4.53697 to 4.49850, saving model to saved_models/weights.best.from_scratch.hdf5\n",
      "6680/6680 [==============================] - 23s - loss: 4.3453 - acc: 0.0663 - val_loss: 4.4985 - val_acc: 0.0455\n",
      "Epoch 21/100\n",
      "6660/6680 [============================>.] - ETA: 0s - loss: 4.3197 - acc: 0.0691Epoch 00020: val_loss improved from 4.49850 to 4.46418, saving model to saved_models/weights.best.from_scratch.hdf5\n",
      "6680/6680 [==============================] - 23s - loss: 4.3191 - acc: 0.0692 - val_loss: 4.4642 - val_acc: 0.0527\n",
      "Epoch 22/100\n",
      "6660/6680 [============================>.] - ETA: 0s - loss: 4.2979 - acc: 0.0695Epoch 00021: val_loss improved from 4.46418 to 4.45907, saving model to saved_models/weights.best.from_scratch.hdf5\n",
      "6680/6680 [==============================] - 23s - loss: 4.2964 - acc: 0.0696 - val_loss: 4.4591 - val_acc: 0.0479\n",
      "Epoch 23/100\n",
      "6660/6680 [============================>.] - ETA: 0s - loss: 4.2782 - acc: 0.0683Epoch 00022: val_loss improved from 4.45907 to 4.44724, saving model to saved_models/weights.best.from_scratch.hdf5\n",
      "6680/6680 [==============================] - 23s - loss: 4.2785 - acc: 0.0683 - val_loss: 4.4472 - val_acc: 0.0527\n",
      "Epoch 24/100\n",
      "6660/6680 [============================>.] - ETA: 0s - loss: 4.2571 - acc: 0.0751Epoch 00023: val_loss improved from 4.44724 to 4.40894, saving model to saved_models/weights.best.from_scratch.hdf5\n",
      "6680/6680 [==============================] - 23s - loss: 4.2572 - acc: 0.0751 - val_loss: 4.4089 - val_acc: 0.0587\n",
      "Epoch 25/100\n",
      "6660/6680 [============================>.] - ETA: 0s - loss: 4.2411 - acc: 0.0788Epoch 00024: val_loss did not improve\n",
      "6680/6680 [==============================] - 23s - loss: 4.2416 - acc: 0.0787 - val_loss: 4.4443 - val_acc: 0.0623\n",
      "Epoch 26/100\n",
      "6660/6680 [============================>.] - ETA: 0s - loss: 4.2256 - acc: 0.0772Epoch 00025: val_loss did not improve\n",
      "6680/6680 [==============================] - 23s - loss: 4.2246 - acc: 0.0772 - val_loss: 4.4435 - val_acc: 0.0587\n",
      "Epoch 27/100\n",
      "6660/6680 [============================>.] - ETA: 0s - loss: 4.2031 - acc: 0.0784- ETA:Epoch 00026: val_loss improved from 4.40894 to 4.36680, saving model to saved_models/weights.best.from_scratch.hdf5\n",
      "6680/6680 [==============================] - 23s - loss: 4.2034 - acc: 0.0783 - val_loss: 4.3668 - val_acc: 0.0647\n",
      "Epoch 28/100\n",
      "6660/6680 [============================>.] - ETA: 0s - loss: 4.1829 - acc: 0.0814Epoch 00027: val_loss did not improve\n",
      "6680/6680 [==============================] - 23s - loss: 4.1834 - acc: 0.0816 - val_loss: 4.3947 - val_acc: 0.0695\n",
      "Epoch 29/100\n",
      "6660/6680 [============================>.] - ETA: 0s - loss: 4.1734 - acc: 0.0838- ETAEpoch 00028: val_loss improved from 4.36680 to 4.35046, saving model to saved_models/weights.best.from_scratch.hdf5\n",
      "6680/6680 [==============================] - 23s - loss: 4.1726 - acc: 0.0838 - val_loss: 4.3505 - val_acc: 0.0563\n",
      "Epoch 30/100\n",
      "6660/6680 [============================>.] - ETA: 0s - loss: 4.1531 - acc: 0.0883Epoch 00029: val_loss improved from 4.35046 to 4.31110, saving model to saved_models/weights.best.from_scratch.hdf5\n",
      "6680/6680 [==============================] - 23s - loss: 4.1535 - acc: 0.0880 - val_loss: 4.3111 - val_acc: 0.0683\n",
      "Epoch 31/100\n",
      "6660/6680 [============================>.] - ETA: 0s - loss: 4.1401 - acc: 0.0925Epoch 00030: val_loss did not improve\n",
      "6680/6680 [==============================] - 23s - loss: 4.1390 - acc: 0.0925 - val_loss: 4.3482 - val_acc: 0.0563\n",
      "Epoch 32/100\n",
      "6660/6680 [============================>.] - ETA: 0s - loss: 4.1298 - acc: 0.0932Epoch 00031: val_loss improved from 4.31110 to 4.30018, saving model to saved_models/weights.best.from_scratch.hdf5\n",
      "6680/6680 [==============================] - 23s - loss: 4.1307 - acc: 0.0931 - val_loss: 4.3002 - val_acc: 0.0754\n",
      "Epoch 33/100\n",
      "6660/6680 [============================>.] - ETA: 0s - loss: 4.1116 - acc: 0.0913Epoch 00032: val_loss improved from 4.30018 to 4.27902, saving model to saved_models/weights.best.from_scratch.hdf5\n",
      "6680/6680 [==============================] - 23s - loss: 4.1108 - acc: 0.0913 - val_loss: 4.2790 - val_acc: 0.0766\n",
      "Epoch 34/100\n",
      "6660/6680 [============================>.] - ETA: 0s - loss: 4.0945 - acc: 0.0943Epoch 00033: val_loss did not improve\n",
      "6680/6680 [==============================] - 23s - loss: 4.0929 - acc: 0.0946 - val_loss: 4.3237 - val_acc: 0.0743\n",
      "Epoch 35/100\n",
      "6660/6680 [============================>.] - ETA: 0s - loss: 4.0895 - acc: 0.0947Epoch 00034: val_loss did not improve\n",
      "6680/6680 [==============================] - 23s - loss: 4.0888 - acc: 0.0946 - val_loss: 4.2907 - val_acc: 0.0647\n",
      "Epoch 36/100\n",
      "6660/6680 [============================>.] - ETA: 0s - loss: 4.0720 - acc: 0.1000Epoch 00035: val_loss improved from 4.27902 to 4.26715, saving model to saved_models/weights.best.from_scratch.hdf5\n",
      "6680/6680 [==============================] - 23s - loss: 4.0711 - acc: 0.1003 - val_loss: 4.2671 - val_acc: 0.0754\n",
      "Epoch 37/100\n",
      "6660/6680 [============================>.] - ETA: 0s - loss: 4.0613 - acc: 0.0943Epoch 00036: val_loss did not improve\n",
      "6680/6680 [==============================] - 23s - loss: 4.0606 - acc: 0.0946 - val_loss: 4.2825 - val_acc: 0.0778\n",
      "Epoch 38/100\n",
      "6660/6680 [============================>.] - ETA: 0s - loss: 4.0460 - acc: 0.1045Epoch 00037: val_loss did not improve\n",
      "6680/6680 [==============================] - 23s - loss: 4.0451 - acc: 0.1045 - val_loss: 4.3178 - val_acc: 0.0695\n",
      "Epoch 39/100\n",
      "6660/6680 [============================>.] - ETA: 0s - loss: 4.0344 - acc: 0.1057Epoch 00038: val_loss did not improve\n",
      "6680/6680 [==============================] - 23s - loss: 4.0328 - acc: 0.1058 - val_loss: 4.3192 - val_acc: 0.0659\n",
      "Epoch 40/100\n",
      "6660/6680 [============================>.] - ETA: 0s - loss: 4.0220 - acc: 0.1107Epoch 00039: val_loss improved from 4.26715 to 4.21390, saving model to saved_models/weights.best.from_scratch.hdf5\n",
      "6680/6680 [==============================] - 23s - loss: 4.0223 - acc: 0.1103 - val_loss: 4.2139 - val_acc: 0.0826\n",
      "Epoch 41/100\n",
      "6660/6680 [============================>.] - ETA: 0s - loss: 4.0186 - acc: 0.1030Epoch 00040: val_loss did not improve\n",
      "6680/6680 [==============================] - 23s - loss: 4.0185 - acc: 0.1030 - val_loss: 4.2276 - val_acc: 0.0790\n",
      "Epoch 42/100\n",
      "6660/6680 [============================>.] - ETA: 0s - loss: 4.0031 - acc: 0.1026Epoch 00041: val_loss did not improve\n",
      "6680/6680 [==============================] - 23s - loss: 4.0045 - acc: 0.1022 - val_loss: 4.2197 - val_acc: 0.0982\n",
      "Epoch 43/100\n",
      "6660/6680 [============================>.] - ETA: 0s - loss: 3.9867 - acc: 0.1101Epoch 00042: val_loss improved from 4.21390 to 4.19816, saving model to saved_models/weights.best.from_scratch.hdf5\n",
      "6680/6680 [==============================] - 23s - loss: 3.9877 - acc: 0.1097 - val_loss: 4.1982 - val_acc: 0.0958\n",
      "Epoch 44/100\n",
      "6660/6680 [============================>.] - ETA: 0s - loss: 3.9777 - acc: 0.1075Epoch 00043: val_loss improved from 4.19816 to 4.18581, saving model to saved_models/weights.best.from_scratch.hdf5\n",
      "6680/6680 [==============================] - 23s - loss: 3.9771 - acc: 0.1075 - val_loss: 4.1858 - val_acc: 0.0850\n",
      "Epoch 45/100\n",
      "6660/6680 [============================>.] - ETA: 0s - loss: 3.9686 - acc: 0.1116Epoch 00044: val_loss did not improve\n",
      "6680/6680 [==============================] - 23s - loss: 3.9684 - acc: 0.1115 - val_loss: 4.2093 - val_acc: 0.0790\n",
      "Epoch 46/100\n",
      "6660/6680 [============================>.] - ETA: 0s - loss: 3.9539 - acc: 0.1128Epoch 00045: val_loss improved from 4.18581 to 4.18264, saving model to saved_models/weights.best.from_scratch.hdf5\n",
      "6680/6680 [==============================] - 23s - loss: 3.9549 - acc: 0.1127 - val_loss: 4.1826 - val_acc: 0.0994\n",
      "Epoch 47/100\n",
      "6660/6680 [============================>.] - ETA: 0s - loss: 3.9493 - acc: 0.1108Epoch 00046: val_loss did not improve\n",
      "6680/6680 [==============================] - 23s - loss: 3.9476 - acc: 0.1112 - val_loss: 4.2239 - val_acc: 0.0910\n",
      "Epoch 48/100\n",
      "6660/6680 [============================>.] - ETA: 0s - loss: 3.9333 - acc: 0.1135Epoch 00047: val_loss did not improve\n",
      "6680/6680 [==============================] - 23s - loss: 3.9329 - acc: 0.1139 - val_loss: 4.2071 - val_acc: 0.0958\n",
      "Epoch 49/100\n",
      "6660/6680 [============================>.] - ETA: 0s - loss: 3.9274 - acc: 0.1171Epoch 00048: val_loss did not improve\n",
      "6680/6680 [==============================] - 23s - loss: 3.9271 - acc: 0.1171 - val_loss: 4.2054 - val_acc: 0.0910\n",
      "Epoch 50/100\n",
      "6660/6680 [============================>.] - ETA: 0s - loss: 3.9173 - acc: 0.1227Epoch 00049: val_loss did not improve\n",
      "6680/6680 [==============================] - 23s - loss: 3.9165 - acc: 0.1228 - val_loss: 4.2552 - val_acc: 0.0874\n",
      "Epoch 51/100\n",
      "6660/6680 [============================>.] - ETA: 0s - loss: 3.8991 - acc: 0.1155Epoch 00050: val_loss did not improve\n",
      "6680/6680 [==============================] - 23s - loss: 3.8988 - acc: 0.1154 - val_loss: 4.2199 - val_acc: 0.1006\n",
      "Epoch 52/100\n",
      "6660/6680 [============================>.] - ETA: 0s - loss: 3.8955 - acc: 0.1195Epoch 00051: val_loss did not improve\n",
      "6680/6680 [==============================] - 23s - loss: 3.8950 - acc: 0.1195 - val_loss: 4.2280 - val_acc: 0.0898\n",
      "Epoch 53/100\n",
      "6660/6680 [============================>.] - ETA: 0s - loss: 3.8849 - acc: 0.1252Epoch 00052: val_loss did not improve\n",
      "6680/6680 [==============================] - 23s - loss: 3.8852 - acc: 0.1251 - val_loss: 4.2261 - val_acc: 0.0886\n",
      "Epoch 54/100\n",
      "6660/6680 [============================>.] - ETA: 0s - loss: 3.8718 - acc: 0.1240Epoch 00053: val_loss improved from 4.18264 to 4.16942, saving model to saved_models/weights.best.from_scratch.hdf5\n",
      "6680/6680 [==============================] - 23s - loss: 3.8725 - acc: 0.1237 - val_loss: 4.1694 - val_acc: 0.1030\n",
      "Epoch 55/100\n",
      "6660/6680 [============================>.] - ETA: 0s - loss: 3.8657 - acc: 0.1246Epoch 00054: val_loss improved from 4.16942 to 4.14732, saving model to saved_models/weights.best.from_scratch.hdf5\n",
      "6680/6680 [==============================] - 23s - loss: 3.8670 - acc: 0.1243 - val_loss: 4.1473 - val_acc: 0.1006\n",
      "Epoch 56/100\n",
      "6660/6680 [============================>.] - ETA: 0s - loss: 3.8566 - acc: 0.1278Epoch 00055: val_loss improved from 4.14732 to 4.14486, saving model to saved_models/weights.best.from_scratch.hdf5\n"
     ]
    },
    {
     "name": "stdout",
     "output_type": "stream",
     "text": [
      "6680/6680 [==============================] - 23s - loss: 3.8556 - acc: 0.1278 - val_loss: 4.1449 - val_acc: 0.1006\n",
      "Epoch 57/100\n",
      "6660/6680 [============================>.] - ETA: 0s - loss: 3.8473 - acc: 0.1243Epoch 00056: val_loss did not improve\n",
      "6680/6680 [==============================] - 23s - loss: 3.8462 - acc: 0.1247 - val_loss: 4.1927 - val_acc: 0.0982\n",
      "Epoch 58/100\n",
      "6660/6680 [============================>.] - ETA: 0s - loss: 3.8378 - acc: 0.1299Epoch 00057: val_loss did not improve\n",
      "6680/6680 [==============================] - 23s - loss: 3.8373 - acc: 0.1298 - val_loss: 4.1997 - val_acc: 0.0982\n",
      "Epoch 59/100\n",
      "6660/6680 [============================>.] - ETA: 0s - loss: 3.8269 - acc: 0.1365Epoch 00058: val_loss did not improve\n",
      "6680/6680 [==============================] - 23s - loss: 3.8269 - acc: 0.1364 - val_loss: 4.1805 - val_acc: 0.0862\n",
      "Epoch 60/100\n",
      "6660/6680 [============================>.] - ETA: 0s - loss: 3.8197 - acc: 0.1273Epoch 00059: val_loss improved from 4.14486 to 4.09763, saving model to saved_models/weights.best.from_scratch.hdf5\n",
      "6680/6680 [==============================] - 23s - loss: 3.8207 - acc: 0.1271 - val_loss: 4.0976 - val_acc: 0.1066\n",
      "Epoch 61/100\n",
      "6660/6680 [============================>.] - ETA: 0s - loss: 3.8095 - acc: 0.1332Epoch 00060: val_loss did not improve\n",
      "6680/6680 [==============================] - 23s - loss: 3.8086 - acc: 0.1334 - val_loss: 4.1128 - val_acc: 0.1054\n",
      "Epoch 62/100\n",
      "6660/6680 [============================>.] - ETA: 0s - loss: 3.8005 - acc: 0.1353Epoch 00061: val_loss did not improve\n",
      "6680/6680 [==============================] - 23s - loss: 3.8006 - acc: 0.1353 - val_loss: 4.1119 - val_acc: 0.1042\n",
      "Epoch 63/100\n",
      "6660/6680 [============================>.] - ETA: 0s - loss: 3.7949 - acc: 0.1350Epoch 00062: val_loss did not improve\n",
      "6680/6680 [==============================] - 23s - loss: 3.7957 - acc: 0.1347 - val_loss: 4.1713 - val_acc: 0.0994\n",
      "Epoch 64/100\n",
      "6660/6680 [============================>.] - ETA: 0s - loss: 3.7841 - acc: 0.1333Epoch 00063: val_loss did not improve\n",
      "6680/6680 [==============================] - 23s - loss: 3.7836 - acc: 0.1332 - val_loss: 4.1072 - val_acc: 0.1054\n",
      "Epoch 65/100\n",
      "6660/6680 [============================>.] - ETA: 0s - loss: 3.7778 - acc: 0.1408Epoch 00064: val_loss did not improve\n",
      "6680/6680 [==============================] - 23s - loss: 3.7761 - acc: 0.1412 - val_loss: 4.1253 - val_acc: 0.1150\n",
      "Epoch 66/100\n",
      "6660/6680 [============================>.] - ETA: 0s - loss: 3.7635 - acc: 0.1464Epoch 00065: val_loss did not improve\n",
      "6680/6680 [==============================] - 23s - loss: 3.7629 - acc: 0.1464 - val_loss: 4.1279 - val_acc: 0.1078\n",
      "Epoch 67/100\n",
      "6660/6680 [============================>.] - ETA: 0s - loss: 3.7634 - acc: 0.1449Epoch 00066: val_loss improved from 4.09763 to 4.09598, saving model to saved_models/weights.best.from_scratch.hdf5\n",
      "6680/6680 [==============================] - 23s - loss: 3.7629 - acc: 0.1448 - val_loss: 4.0960 - val_acc: 0.1126\n",
      "Epoch 68/100\n",
      "6660/6680 [============================>.] - ETA: 0s - loss: 3.7499 - acc: 0.1414Epoch 00067: val_loss did not improve\n",
      "6680/6680 [==============================] - 23s - loss: 3.7511 - acc: 0.1415 - val_loss: 4.0971 - val_acc: 0.1090\n",
      "Epoch 69/100\n",
      "6660/6680 [============================>.] - ETA: 0s - loss: 3.7426 - acc: 0.1426Epoch 00068: val_loss did not improve\n",
      "6680/6680 [==============================] - 23s - loss: 3.7410 - acc: 0.1428 - val_loss: 4.2668 - val_acc: 0.0970\n",
      "Epoch 70/100\n",
      "6660/6680 [============================>.] - ETA: 0s - loss: 3.7369 - acc: 0.1476Epoch 00069: val_loss did not improve\n",
      "6680/6680 [==============================] - 23s - loss: 3.7372 - acc: 0.1475 - val_loss: 4.1346 - val_acc: 0.1006\n",
      "Epoch 71/100\n",
      "6660/6680 [============================>.] - ETA: 0s - loss: 3.7291 - acc: 0.1529Epoch 00070: val_loss did not improve\n",
      "6680/6680 [==============================] - 23s - loss: 3.7278 - acc: 0.1528 - val_loss: 4.1446 - val_acc: 0.1138\n",
      "Epoch 72/100\n",
      "4580/6680 [===================>..........] - ETA: 7s - loss: 3.7011 - acc: 0.1526"
     ]
    }
   ],
   "source": [
    "from keras.callbacks import ModelCheckpoint  \n",
    "\n",
    "### TODO: specify the number of epochs that you would like to use to train the model.\n",
    "\n",
    "epochs = 5\n",
    "\n",
    "### Do NOT modify the code below this line.\n",
    "\n",
    "checkpointer = ModelCheckpoint(filepath='saved_models/weights.best.from_scratch.hdf5', \n",
    "                               verbose=1, save_best_only=True)\n",
    "\n",
    "model.fit(train_tensors, train_targets, \n",
    "          validation_data=(valid_tensors, valid_targets),\n",
    "          epochs=epochs, batch_size=20, callbacks=[checkpointer], verbose=1)"
   ]
  },
  {
   "cell_type": "markdown",
   "metadata": {},
   "source": [
    "### Load the Model with the Best Validation Loss"
   ]
  },
  {
   "cell_type": "code",
   "execution_count": null,
   "metadata": {
    "collapsed": true
   },
   "outputs": [],
   "source": [
    "model.load_weights('saved_models/weights.best.from_scratch.hdf5')"
   ]
  },
  {
   "cell_type": "markdown",
   "metadata": {},
   "source": [
    "### Test the Model\n",
    "\n",
    "Try out your model on the test dataset of dog images.  Ensure that your test accuracy is greater than 1%."
   ]
  },
  {
   "cell_type": "code",
   "execution_count": null,
   "metadata": {
    "collapsed": true
   },
   "outputs": [],
   "source": [
    "# get index of predicted dog breed for each image in test set\n",
    "dog_breed_predictions = [np.argmax(model.predict(np.expand_dims(tensor, axis=0))) for tensor in test_tensors]\n",
    "\n",
    "# report test accuracy\n",
    "test_accuracy = 100*np.sum(np.array(dog_breed_predictions)==np.argmax(test_targets, axis=1))/len(dog_breed_predictions)\n",
    "print('Test accuracy: %.4f%%' % test_accuracy)"
   ]
  },
  {
   "cell_type": "markdown",
   "metadata": {},
   "source": [
    "---\n",
    "<a id='step4'></a>\n",
    "## Step 4: Use a CNN to Classify Dog Breeds\n",
    "\n",
    "To reduce training time without sacrificing accuracy, we show you how to train a CNN using transfer learning.  In the following step, you will get a chance to use transfer learning to train your own CNN.\n",
    "\n",
    "### Obtain Bottleneck Features"
   ]
  },
  {
   "cell_type": "code",
   "execution_count": null,
   "metadata": {
    "collapsed": true
   },
   "outputs": [],
   "source": [
    "bottleneck_features = np.load('bottleneck_features/DogVGG16Data.npz')\n",
    "train_VGG16 = bottleneck_features['train']\n",
    "valid_VGG16 = bottleneck_features['valid']\n",
    "test_VGG16 = bottleneck_features['test']"
   ]
  },
  {
   "cell_type": "markdown",
   "metadata": {},
   "source": [
    "### Model Architecture\n",
    "\n",
    "The model uses the the pre-trained VGG-16 model as a fixed feature extractor, where the last convolutional output of VGG-16 is fed as input to our model.  We only add a global average pooling layer and a fully connected layer, where the latter contains one node for each dog category and is equipped with a softmax."
   ]
  },
  {
   "cell_type": "code",
   "execution_count": null,
   "metadata": {
    "collapsed": true
   },
   "outputs": [],
   "source": [
    "VGG16_model = Sequential()\n",
    "VGG16_model.add(GlobalAveragePooling2D(input_shape=train_VGG16.shape[1:]))\n",
    "VGG16_model.add(Dense(133, activation='softmax'))\n",
    "VGG16_model.add(Dropout(0.8))\n",
    "\n",
    "VGG16_model.summary()"
   ]
  },
  {
   "cell_type": "markdown",
   "metadata": {},
   "source": [
    "### Compile the Model"
   ]
  },
  {
   "cell_type": "code",
   "execution_count": null,
   "metadata": {
    "collapsed": true
   },
   "outputs": [],
   "source": [
    "VGG16_model.compile(loss='categorical_crossentropy', optimizer='rmsprop', metrics=['accuracy'])"
   ]
  },
  {
   "cell_type": "markdown",
   "metadata": {},
   "source": [
    "### Train the Model"
   ]
  },
  {
   "cell_type": "code",
   "execution_count": null,
   "metadata": {
    "collapsed": true,
    "scrolled": true
   },
   "outputs": [],
   "source": [
    "checkpointer = ModelCheckpoint(filepath='saved_models/weights.best.VGG19.hdf5', \n",
    "                               verbose=1, save_best_only=True)\n",
    "\n",
    "VGG16_model.fit(train_VGG16, train_targets, \n",
    "          validation_data=(valid_VGG16, valid_targets),\n",
    "          epochs=20, batch_size=20, callbacks=[checkpointer], verbose=1)"
   ]
  },
  {
   "cell_type": "markdown",
   "metadata": {},
   "source": [
    "### Load the Model with the Best Validation Loss"
   ]
  },
  {
   "cell_type": "code",
   "execution_count": null,
   "metadata": {
    "collapsed": true
   },
   "outputs": [],
   "source": [
    "VGG16_model.load_weights('saved_models/weights.best.VGG16.hdf5')"
   ]
  },
  {
   "cell_type": "markdown",
   "metadata": {},
   "source": [
    "### Test the Model\n",
    "\n",
    "Now, we can use the CNN to test how well it identifies breed within our test dataset of dog images.  We print the test accuracy below."
   ]
  },
  {
   "cell_type": "code",
   "execution_count": null,
   "metadata": {
    "collapsed": true
   },
   "outputs": [],
   "source": [
    "# get index of predicted dog breed for each image in test set\n",
    "VGG16_predictions = [np.argmax(VGG16_model.predict(np.expand_dims(feature, axis=0))) for feature in test_VGG16]\n",
    "\n",
    "# report test accuracy\n",
    "test_accuracy = 100*np.sum(np.array(VGG16_predictions)==np.argmax(test_targets, axis=1))/len(VGG16_predictions)\n",
    "print('Test accuracy: %.4f%%' % test_accuracy)"
   ]
  },
  {
   "cell_type": "markdown",
   "metadata": {},
   "source": [
    "### Predict Dog Breed with the Model"
   ]
  },
  {
   "cell_type": "code",
   "execution_count": null,
   "metadata": {
    "collapsed": true
   },
   "outputs": [],
   "source": [
    "from extract_bottleneck_features import *\n",
    "\n",
    "def VGG16_predict_breed(img_path):\n",
    "    # extract bottleneck features\n",
    "    bottleneck_feature = extract_VGG16(path_to_tensor(img_path))\n",
    "    # obtain predicted vector\n",
    "    predicted_vector = VGG16_model.predict(bottleneck_feature)\n",
    "    # return dog breed that is predicted by the model\n",
    "    return dog_names[np.argmax(predicted_vector)]\n",
    "\n"
   ]
  },
  {
   "cell_type": "markdown",
   "metadata": {},
   "source": [
    "---\n",
    "<a id='step5'></a>\n",
    "## Step 5: Create a CNN to Classify Dog Breeds (using Transfer Learning)\n",
    "\n",
    "You will now use transfer learning to create a CNN that can identify dog breed from images.  Your CNN must attain at least 60% accuracy on the test set.\n",
    "\n",
    "In Step 4, we used transfer learning to create a CNN using VGG-16 bottleneck features.  In this section, you must use the bottleneck features from a different pre-trained model.  To make things easier for you, we have pre-computed the features for all of the networks that are currently available in Keras:\n",
    "- [VGG-19](https://s3-us-west-1.amazonaws.com/udacity-aind/dog-project/DogVGG19Data.npz) bottleneck features\n",
    "- [ResNet-50](https://s3-us-west-1.amazonaws.com/udacity-aind/dog-project/DogResnet50Data.npz) bottleneck features\n",
    "- [Inception](https://s3-us-west-1.amazonaws.com/udacity-aind/dog-project/DogInceptionV3Data.npz) bottleneck features\n",
    "- [Xception](https://s3-us-west-1.amazonaws.com/udacity-aind/dog-project/DogXceptionData.npz) bottleneck features\n",
    "\n",
    "The files are encoded as such:\n",
    "\n",
    "    Dog{network}Data.npz\n",
    "    \n",
    "where `{network}`, in the above filename, can be one of `VGG19`, `Resnet50`, `InceptionV3`, or `Xception`.  Pick one of the above architectures, download the corresponding bottleneck features, and store the downloaded file in the `bottleneck_features/` folder in the repository.\n",
    "\n",
    "### (IMPLEMENTATION) Obtain Bottleneck Features\n",
    "\n",
    "In the code block below, extract the bottleneck features corresponding to the train, test, and validation sets by running the following:\n",
    "\n",
    "    bottleneck_features = np.load('bottleneck_features/Dog{network}Data.npz')\n",
    "    train_{network} = bottleneck_features['train']\n",
    "    valid_{network} = bottleneck_features['valid']\n",
    "    test_{network} = bottleneck_features['test']"
   ]
  },
  {
   "cell_type": "code",
   "execution_count": null,
   "metadata": {
    "collapsed": true
   },
   "outputs": [],
   "source": [
    "### TODO: Obtain bottleneck features from another pre-trained CNN.\n",
    "#bottleneck_features_VGG19 = np.load('bottleneck_features/DogVGG19Data.npz')\n",
    "#train_VGG19 = bottleneck_features_VGG19['train']\n",
    "#valid_VGG19 = bottleneck_features_VGG19['valid']\n",
    "#test_VGG19 = bottleneck_features['test']\n",
    "\n",
    "bottleneck_features_Resnet50 = np.load('bottleneck_features/DogResnet50Data.npz')\n",
    "train_Resnet50 = bottleneck_features_Resnet50['train']\n",
    "valid_Resnet50 = bottleneck_features_Resnet50['valid']\n",
    "test_Resnet50 = bottleneck_features_Resnet50['test']\n",
    "\n",
    "#bottleneck_features_InceptionV3 = np.load('bottleneck_features/DogInceptionV3Data.npz')\n",
    "#train_InceptionV3 = bottleneck_features_InceptionV3['train']\n",
    "#valid_InceptionV3 = bottleneck_features_InceptionV3['valid']\n",
    "#test_InceptionV3 = bottleneck_features_InceptionV3['test']\n",
    "\n",
    "#bottleneck_features_Xception = np.load('bottleneck_features/DogXceptionData.npz')\n",
    "#train_Xception = bottleneck_features_Resnet50['train']\n",
    "#valid_Xception = bottleneck_features_Resnet50['valid']\n",
    "#test_Xception = bottleneck_features_Resnet50['test']\n"
   ]
  },
  {
   "cell_type": "code",
   "execution_count": null,
   "metadata": {
    "collapsed": true
   },
   "outputs": [],
   "source": [
    "## TODO: Execute your algorithm from Step 6 on\n",
    "## at least 6 images on your computer.\n",
    "## Feel free to use as many code cells as needed.\n",
    "for i in range(100):\n",
    "    dog_app_core(human_files_short [i])\n",
    "    dog_app_core(dog_files_short [i])"
   ]
  },
  {
   "cell_type": "markdown",
   "metadata": {},
   "source": [
    "### (IMPLEMENTATION) Model Architecture\n",
    "\n",
    "Create a CNN to classify dog breed.  At the end of your code cell block, summarize the layers of your model by executing the line:\n",
    "    \n",
    "        <your model's name>.summary()\n",
    "   \n",
    "__Question 5:__ Outline the steps you took to get to your final CNN architecture and your reasoning at each step.  Describe why you think the architecture is suitable for the current problem.\n",
    "\n",
    "__Answer:__ \n",
    "\n"
   ]
  },
  {
   "cell_type": "code",
   "execution_count": 2,
   "metadata": {},
   "outputs": [
    {
     "ename": "NameError",
     "evalue": "name 'Sequential' is not defined",
     "output_type": "error",
     "traceback": [
      "\u001b[1;31m---------------------------------------------------------------------------\u001b[0m",
      "\u001b[1;31mNameError\u001b[0m                                 Traceback (most recent call last)",
      "\u001b[1;32m<ipython-input-2-882049bdb454>\u001b[0m in \u001b[0;36m<module>\u001b[1;34m()\u001b[0m\n\u001b[0;32m      7\u001b[0m \u001b[1;31m#VGG19_model.summary()\u001b[0m\u001b[1;33m\u001b[0m\u001b[1;33m\u001b[0m\u001b[0m\n\u001b[0;32m      8\u001b[0m \u001b[1;33m\u001b[0m\u001b[0m\n\u001b[1;32m----> 9\u001b[1;33m \u001b[0mResnet50_model\u001b[0m \u001b[1;33m=\u001b[0m \u001b[0mSequential\u001b[0m\u001b[1;33m(\u001b[0m\u001b[1;33m)\u001b[0m\u001b[1;33m\u001b[0m\u001b[0m\n\u001b[0m\u001b[0;32m     10\u001b[0m \u001b[0mResnet50_model\u001b[0m\u001b[1;33m.\u001b[0m\u001b[0madd\u001b[0m\u001b[1;33m(\u001b[0m\u001b[0mGlobalAveragePooling2D\u001b[0m\u001b[1;33m(\u001b[0m\u001b[0minput_shape\u001b[0m\u001b[1;33m=\u001b[0m\u001b[0mtrain_Resnet50\u001b[0m\u001b[1;33m.\u001b[0m\u001b[0mshape\u001b[0m\u001b[1;33m[\u001b[0m\u001b[1;36m1\u001b[0m\u001b[1;33m:\u001b[0m\u001b[1;33m]\u001b[0m\u001b[1;33m)\u001b[0m\u001b[1;33m)\u001b[0m\u001b[1;33m\u001b[0m\u001b[0m\n\u001b[0;32m     11\u001b[0m \u001b[0mResnet50_model\u001b[0m\u001b[1;33m.\u001b[0m\u001b[0madd\u001b[0m\u001b[1;33m(\u001b[0m\u001b[0mDense\u001b[0m\u001b[1;33m(\u001b[0m\u001b[1;36m133\u001b[0m\u001b[1;33m,\u001b[0m \u001b[0mactivation\u001b[0m\u001b[1;33m=\u001b[0m\u001b[1;34m'softmax'\u001b[0m\u001b[1;33m)\u001b[0m\u001b[1;33m)\u001b[0m\u001b[1;33m\u001b[0m\u001b[0m\n",
      "\u001b[1;31mNameError\u001b[0m: name 'Sequential' is not defined"
     ]
    }
   ],
   "source": [
    "### TODO: Define your architecture.\n",
    "#VGG19_model = Sequential()\n",
    "#VGG19_model.add(GlobalAveragePooling2D(input_shape=train_VGG19.shape[1:]))\n",
    "#VGG19_model.add(Dense(133, activation='softmax'))\n",
    "#VGG19_model.add(Dropout(0.8))\n",
    "\n",
    "#VGG19_model.summary()\n",
    "\n",
    "Resnet50_model = Sequential()\n",
    "Resnet50_model.add(GlobalAveragePooling2D(input_shape=train_Resnet50.shape[1:]))\n",
    "Resnet50_model.add(Dense(133, activation='softmax'))\n",
    "Resnet50_model.add(Dropout(0.5))\n",
    "\n",
    "Resnet50_model.summary()\n",
    "\n",
    "\n",
    "#InceptionV3_model = Sequential()\n",
    "#InceptionV3_model.add(GlobalAveragePooling2D(input_shape=train_InceptionV3.shape[1:]))\n",
    "#InceptionV3_model.add(Dense(133, activation='softmax'))\n",
    "#InceptionV3_model.add(Dropout(0.5))\n",
    "\n",
    "#InceptionV3_model.summary()\n",
    "\n",
    "\n",
    "print('''I rely on the already trained high level features of Resnet50 model. I freeze the features learned in Resnet50 and attach to it a GAP layer followed by a softmax layer for categorization. A dropout of rate 0.5 is also employed to speed up the training. \n",
    "\n",
    "I tried different values for the dropout rate, and find that 0.5 work quite well among them. For larger value, the training was slow and showed signs of overfitting after dozens of epochs.\n",
    "''')"
   ]
  },
  {
   "cell_type": "markdown",
   "metadata": {},
   "source": [
    "### (IMPLEMENTATION) Compile the Model"
   ]
  },
  {
   "cell_type": "code",
   "execution_count": null,
   "metadata": {
    "collapsed": true
   },
   "outputs": [],
   "source": [
    "### TODO: Compile the model.\n",
    "Resnet50_model.compile(loss='categorical_crossentropy', optimizer='rmsprop', metrics=['accuracy'])"
   ]
  },
  {
   "cell_type": "markdown",
   "metadata": {},
   "source": [
    "### (IMPLEMENTATION) Train the Model\n",
    "\n",
    "Train your model in the code cell below.  Use model checkpointing to save the model that attains the best validation loss.  \n",
    "\n",
    "You are welcome to [augment the training data](https://blog.keras.io/building-powerful-image-classification-models-using-very-little-data.html), but this is not a requirement. "
   ]
  },
  {
   "cell_type": "code",
   "execution_count": null,
   "metadata": {
    "collapsed": true,
    "scrolled": true
   },
   "outputs": [],
   "source": [
    "### TODO: Train the model.\n",
    "checkpointer = ModelCheckpoint(filepath='saved_models/weights.best.Resnet50.hdf5', \n",
    "                               verbose=1, save_best_only=True)\n",
    "\n",
    "Resnet50_model.fit(train_Resnet50, train_targets, \n",
    "          validation_data=(valid_Resnet50, valid_targets),\n",
    "          epochs=10, batch_size=20, callbacks=[checkpointer], verbose=1)"
   ]
  },
  {
   "cell_type": "markdown",
   "metadata": {},
   "source": [
    "### (IMPLEMENTATION) Load the Model with the Best Validation Loss"
   ]
  },
  {
   "cell_type": "code",
   "execution_count": null,
   "metadata": {
    "collapsed": true
   },
   "outputs": [],
   "source": [
    "### TODO: Load the model weights with the best validation loss.\n",
    "#VGG19_model.load_weights('saved_models/weights.best.VGG19.hdf5')\n",
    "Resnet50_model.load_weights('saved_models/weights.best.Resnet50.hdf5')\n"
   ]
  },
  {
   "cell_type": "markdown",
   "metadata": {},
   "source": [
    "### (IMPLEMENTATION) Test the Model\n",
    "\n",
    "Try out your model on the test dataset of dog images. Ensure that your test accuracy is greater than 60%."
   ]
  },
  {
   "cell_type": "code",
   "execution_count": null,
   "metadata": {
    "collapsed": true
   },
   "outputs": [],
   "source": [
    "### TODO: Calculate classification accuracy on the test dataset.\n",
    "# get index of predicted dog breed for each image in test set\n",
    "#VGG19_predictions = [np.argmax(VGG19_model.predict(np.expand_dims(feature, axis=0))) for feature in test_VGG16]\n",
    "Resnet50_predictions = [np.argmax(Resnet50_model.predict(np.expand_dims(feature, axis=0))) for feature in test_Resnet50]\n",
    "\n",
    "# report test accuracy\n",
    "#test_accuracy = 100*np.sum(np.array(VGG19_predictions)==np.argmax(test_targets, axis=1))/len(VGG19_predictions)\n",
    "test_accuracy = 100*np.sum(np.array(Resnet50_predictions)==np.argmax(test_targets, axis=1))/len(Resnet50_predictions)\n",
    "\n",
    "print('Test accuracy: %.4f%%' % test_accuracy)"
   ]
  },
  {
   "cell_type": "markdown",
   "metadata": {},
   "source": [
    "### (IMPLEMENTATION) Predict Dog Breed with the Model\n",
    "\n",
    "Write a function that takes an image path as input and returns the dog breed (`Affenpinscher`, `Afghan_hound`, etc) that is predicted by your model.  \n",
    "\n",
    "Similar to the analogous function in Step 5, your function should have three steps:\n",
    "1. Extract the bottleneck features corresponding to the chosen CNN model.\n",
    "2. Supply the bottleneck features as input to the model to return the predicted vector.  Note that the argmax of this prediction vector gives the index of the predicted dog breed.\n",
    "3. Use the `dog_names` array defined in Step 0 of this notebook to return the corresponding breed.\n",
    "\n",
    "The functions to extract the bottleneck features can be found in `extract_bottleneck_features.py`, and they have been imported in an earlier code cell.  To obtain the bottleneck features corresponding to your chosen CNN architecture, you need to use the function\n",
    "\n",
    "    extract_{network}\n",
    "    \n",
    "where `{network}`, in the above filename, should be one of `VGG19`, `Resnet50`, `InceptionV3`, or `Xception`."
   ]
  },
  {
   "cell_type": "code",
   "execution_count": null,
   "metadata": {
    "collapsed": true
   },
   "outputs": [],
   "source": [
    "### TODO: Write a function that takes a path to an image as input\n",
    "### and returns the dog breed that is predicted by the model.\n",
    "def Resnet50_predict_breed(img_path):\n",
    "    # extract bottleneck features\n",
    "    bottleneck_feature = extract_Resnet50(path_to_tensor(img_path))\n",
    "    # obtain predicted vector\n",
    "    predicted_vector = Resnet50_model.predict(bottleneck_feature)\n",
    "    # return dog breed that is predicted by the model\n",
    "    breed = dog_names[np.argmax(predicted_vector)]\n",
    "    print(\"breed:\", )\n",
    "    return breed"
   ]
  },
  {
   "cell_type": "markdown",
   "metadata": {},
   "source": [
    "---\n",
    "<a id='step6'></a>\n",
    "## Step 6: Write your Algorithm\n",
    "\n",
    "Write an algorithm that accepts a file path to an image and first determines whether the image contains a human, dog, or neither.  Then,\n",
    "- if a __dog__ is detected in the image, return the predicted breed.\n",
    "- if a __human__ is detected in the image, return the resembling dog breed.\n",
    "- if __neither__ is detected in the image, provide output that indicates an error.\n",
    "\n",
    "You are welcome to write your own functions for detecting humans and dogs in images, but feel free to use the `face_detector` and `dog_detector` functions developed above.  You are __required__ to use your CNN from Step 5 to predict dog breed.  \n",
    "\n",
    "Some sample output for our algorithm is provided below, but feel free to design your own user experience!\n",
    "\n",
    "![Sample Human Output](images/sample_human_output.png)\n",
    "\n",
    "\n",
    "### (IMPLEMENTATION) Write your Algorithm"
   ]
  },
  {
   "cell_type": "code",
   "execution_count": null,
   "metadata": {
    "collapsed": true
   },
   "outputs": [],
   "source": [
    "### TODO: Write your algorithm.\n",
    "### Feel free to use as many code cells as needed.\n",
    "def dog_app_core(img_path):\n",
    "    def print_img(img_path):\n",
    "        img = cv2.imread(img_path)\n",
    "        cv_rgb = cv2.cvtColor(img, cv2.COLOR_BGR2RGB)\n",
    "        plt.imshow(cv_rgb)\n",
    "        plt.show()\n",
    "        return\n",
    "    #if a dog is detected in the image, return the predicted breed.\n",
    "    if dog_detector(img_path):\n",
    "        print(\"hello, dog\")\n",
    "        print_img(img_path)\n",
    "        breed = Resnet50_predict_breed(img_path)\n",
    "        print(\"I guess you are a \", breed)\n",
    "        return\n",
    "    #if a human is detected in the image, return the resembling dog breed.\n",
    "    if face_detector(img_path):\n",
    "        print(\"hello, human\")\n",
    "        print_img(img_path)\n",
    "        breed = Resnet50_predict_breed(img_path)\n",
    "        print(\"you look like a \", breed)\n",
    "        return\n",
    "    #if neither is detected in the image, provide output that indicates an error.\n",
    "    print(\"sorry. the bot fail to see neither a human nor a dog\")\n",
    "    return"
   ]
  },
  {
   "cell_type": "markdown",
   "metadata": {},
   "source": [
    "---\n",
    "<a id='step7'></a>\n",
    "## Step 7: Test Your Algorithm\n",
    "\n",
    "In this section, you will take your new algorithm for a spin!  What kind of dog does the algorithm think that __you__ look like?  If you have a dog, does it predict your dog's breed accurately?  If you have a cat, does it mistakenly think that your cat is a dog?\n",
    "\n",
    "### (IMPLEMENTATION) Test Your Algorithm on Sample Images!\n",
    "\n",
    "Test your algorithm at least six images on your computer.  Feel free to use any images you like.  Use at least two human and two dog images.  \n",
    "\n",
    "__Question 6:__ Is the output better than you expected :) ?  Or worse :( ?  Provide at least three possible points of improvement for your algorithm.\n",
    "\n",
    "__Answer:__ "
   ]
  },
  {
   "cell_type": "code",
   "execution_count": 1,
   "metadata": {},
   "outputs": [
    {
     "ename": "NameError",
     "evalue": "name 'detect_breed' is not defined",
     "output_type": "error",
     "traceback": [
      "\u001b[1;31m---------------------------------------------------------------------------\u001b[0m",
      "\u001b[1;31mNameError\u001b[0m                                 Traceback (most recent call last)",
      "\u001b[1;32m<ipython-input-1-c0994b3dabe0>\u001b[0m in \u001b[0;36m<module>\u001b[1;34m()\u001b[0m\n\u001b[1;32m----> 1\u001b[1;33m \u001b[0mdetect_breed\u001b[0m\u001b[1;33m(\u001b[0m\u001b[1;34m'my_images/alicat.png'\u001b[0m\u001b[1;33m)\u001b[0m\u001b[1;33m\u001b[0m\u001b[0m\n\u001b[0m\u001b[0;32m      2\u001b[0m \u001b[0mdetect_breed\u001b[0m\u001b[1;33m(\u001b[0m\u001b[1;34m'my_images/alicat.png'\u001b[0m\u001b[1;33m)\u001b[0m\u001b[1;33m\u001b[0m\u001b[0m\n\u001b[0;32m      3\u001b[0m \u001b[0mdetect_breed\u001b[0m\u001b[1;33m(\u001b[0m\u001b[1;34m'my_images/alicat.png'\u001b[0m\u001b[1;33m)\u001b[0m\u001b[1;33m\u001b[0m\u001b[0m\n\u001b[0;32m      4\u001b[0m \u001b[0mdetect_breed\u001b[0m\u001b[1;33m(\u001b[0m\u001b[1;34m'my_images/alicat.png'\u001b[0m\u001b[1;33m)\u001b[0m\u001b[1;33m\u001b[0m\u001b[0m\n\u001b[0;32m      5\u001b[0m \u001b[0mdetect_breed\u001b[0m\u001b[1;33m(\u001b[0m\u001b[1;34m'my_images/alicat.png'\u001b[0m\u001b[1;33m)\u001b[0m\u001b[1;33m\u001b[0m\u001b[0m\n",
      "\u001b[1;31mNameError\u001b[0m: name 'detect_breed' is not defined"
     ]
    }
   ],
   "source": [
    "# to call the function detect_breed"
   ]
  },
  {
   "cell_type": "code",
   "execution_count": null,
   "metadata": {
    "collapsed": true
   },
   "outputs": [],
   "source": []
  }
 ],
 "metadata": {
  "anaconda-cloud": {},
  "kernelspec": {
   "display_name": "Python [default]",
   "language": "python",
   "name": "python3"
  },
  "language_info": {
   "codemirror_mode": {
    "name": "ipython",
    "version": 3
   },
   "file_extension": ".py",
   "mimetype": "text/x-python",
   "name": "python",
   "nbconvert_exporter": "python",
   "pygments_lexer": "ipython3",
   "version": "3.5.3"
  }
 },
 "nbformat": 4,
 "nbformat_minor": 1
}
